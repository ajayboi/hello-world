{
  "nbformat": 4,
  "nbformat_minor": 0,
  "metadata": {
    "kernelspec": {
      "display_name": "Python 3",
      "language": "python",
      "name": "python3"
    },
    "language_info": {
      "codemirror_mode": {
        "name": "ipython",
        "version": 3
      },
      "file_extension": ".py",
      "mimetype": "text/x-python",
      "name": "python",
      "nbconvert_exporter": "python",
      "pygments_lexer": "ipython3",
      "version": "3.7.6"
    },
    "colab": {
      "name": "Bonus - Scorecards.ipynb",
      "provenance": [],
      "include_colab_link": true
    }
  },
  "cells": [
    {
      "cell_type": "markdown",
      "metadata": {
        "id": "view-in-github",
        "colab_type": "text"
      },
      "source": [
        "<a href=\"https://colab.research.google.com/github/ajayboi/hello-world/blob/master/Bonus_Scorecards.ipynb\" target=\"_parent\"><img src=\"https://colab.research.google.com/assets/colab-badge.svg\" alt=\"Open In Colab\"/></a>"
      ]
    },
    {
      "cell_type": "code",
      "metadata": {
        "id": "Td6BtTmFPxkF"
      },
      "source": [
        "import pandas as pd\n",
        "import numpy as np"
      ],
      "execution_count": null,
      "outputs": []
    },
    {
      "cell_type": "code",
      "metadata": {
        "id": "hYJNm5B-PxkO"
      },
      "source": [
        "mdf = pd.read_csv('matches.csv')"
      ],
      "execution_count": null,
      "outputs": []
    },
    {
      "cell_type": "code",
      "metadata": {
        "id": "V6zmd5DlPxkQ"
      },
      "source": [
        "df = pd.read_csv('deliveries.csv')"
      ],
      "execution_count": null,
      "outputs": []
    },
    {
      "cell_type": "code",
      "metadata": {
        "id": "EZiWDzzePxkR",
        "outputId": "deddb97d-e32f-4ea9-ba32-58504a3b125a"
      },
      "source": [
        "df.head(1)"
      ],
      "execution_count": null,
      "outputs": [
        {
          "output_type": "execute_result",
          "data": {
            "text/html": [
              "<div>\n",
              "<style scoped>\n",
              "    .dataframe tbody tr th:only-of-type {\n",
              "        vertical-align: middle;\n",
              "    }\n",
              "\n",
              "    .dataframe tbody tr th {\n",
              "        vertical-align: top;\n",
              "    }\n",
              "\n",
              "    .dataframe thead th {\n",
              "        text-align: right;\n",
              "    }\n",
              "</style>\n",
              "<table border=\"1\" class=\"dataframe\">\n",
              "  <thead>\n",
              "    <tr style=\"text-align: right;\">\n",
              "      <th></th>\n",
              "      <th>match_id</th>\n",
              "      <th>inning</th>\n",
              "      <th>batting_team</th>\n",
              "      <th>bowling_team</th>\n",
              "      <th>over</th>\n",
              "      <th>ball</th>\n",
              "      <th>batsman</th>\n",
              "      <th>non_striker</th>\n",
              "      <th>bowler</th>\n",
              "      <th>is_super_over</th>\n",
              "      <th>...</th>\n",
              "      <th>bye_runs</th>\n",
              "      <th>legbye_runs</th>\n",
              "      <th>noball_runs</th>\n",
              "      <th>penalty_runs</th>\n",
              "      <th>batsman_runs</th>\n",
              "      <th>extra_runs</th>\n",
              "      <th>total_runs</th>\n",
              "      <th>player_dismissed</th>\n",
              "      <th>dismissal_kind</th>\n",
              "      <th>fielder</th>\n",
              "    </tr>\n",
              "  </thead>\n",
              "  <tbody>\n",
              "    <tr>\n",
              "      <th>0</th>\n",
              "      <td>1</td>\n",
              "      <td>1</td>\n",
              "      <td>Sunrisers Hyderabad</td>\n",
              "      <td>Royal Challengers Bangalore</td>\n",
              "      <td>1</td>\n",
              "      <td>1</td>\n",
              "      <td>DA Warner</td>\n",
              "      <td>S Dhawan</td>\n",
              "      <td>TS Mills</td>\n",
              "      <td>0</td>\n",
              "      <td>...</td>\n",
              "      <td>0</td>\n",
              "      <td>0</td>\n",
              "      <td>0</td>\n",
              "      <td>0</td>\n",
              "      <td>0</td>\n",
              "      <td>0</td>\n",
              "      <td>0</td>\n",
              "      <td>NaN</td>\n",
              "      <td>NaN</td>\n",
              "      <td>NaN</td>\n",
              "    </tr>\n",
              "  </tbody>\n",
              "</table>\n",
              "<p>1 rows × 21 columns</p>\n",
              "</div>"
            ],
            "text/plain": [
              "   match_id  inning         batting_team                 bowling_team  over  \\\n",
              "0         1       1  Sunrisers Hyderabad  Royal Challengers Bangalore     1   \n",
              "\n",
              "   ball    batsman non_striker    bowler  is_super_over  ...  bye_runs  \\\n",
              "0     1  DA Warner    S Dhawan  TS Mills              0  ...         0   \n",
              "\n",
              "   legbye_runs  noball_runs  penalty_runs  batsman_runs  extra_runs  \\\n",
              "0            0            0             0             0           0   \n",
              "\n",
              "   total_runs  player_dismissed dismissal_kind fielder  \n",
              "0           0               NaN            NaN     NaN  \n",
              "\n",
              "[1 rows x 21 columns]"
            ]
          },
          "metadata": {
            "tags": []
          },
          "execution_count": 4
        }
      ]
    },
    {
      "cell_type": "code",
      "metadata": {
        "id": "LTqlxsisPxkU"
      },
      "source": [
        "matchID = 1"
      ],
      "execution_count": null,
      "outputs": []
    },
    {
      "cell_type": "code",
      "metadata": {
        "id": "0JP9jd-5PxkV"
      },
      "source": [
        "df = df[(df.match_id == 1) & (df.inning == 2)]"
      ],
      "execution_count": null,
      "outputs": []
    },
    {
      "cell_type": "code",
      "metadata": {
        "id": "GF_HAXLiPxkW",
        "outputId": "f8f82a6d-e056-4a23-840e-f33cfcddd0a1"
      },
      "source": [
        "df.player_dismissed.unique()"
      ],
      "execution_count": null,
      "outputs": [
        {
          "output_type": "execute_result",
          "data": {
            "text/plain": [
              "array([nan, 'Mandeep Singh', 'CH Gayle', 'KM Jadhav', 'TM Head',\n",
              "       'Sachin Baby', 'STR Binny', 'SR Watson', 'S Aravind', 'TS Mills',\n",
              "       'YS Chahal'], dtype=object)"
            ]
          },
          "metadata": {
            "tags": []
          },
          "execution_count": 7
        }
      ]
    },
    {
      "cell_type": "code",
      "metadata": {
        "id": "CKeyYaO6PxkX"
      },
      "source": [
        "players = list(df.batsman.unique())"
      ],
      "execution_count": null,
      "outputs": []
    },
    {
      "cell_type": "code",
      "metadata": {
        "id": "p0xC8mVNPxkY",
        "outputId": "18279280-1f56-4e8f-bdb9-6f55125331ff"
      },
      "source": [
        "players"
      ],
      "execution_count": null,
      "outputs": [
        {
          "output_type": "execute_result",
          "data": {
            "text/plain": [
              "['CH Gayle',\n",
              " 'Mandeep Singh',\n",
              " 'TM Head',\n",
              " 'KM Jadhav',\n",
              " 'SR Watson',\n",
              " 'Sachin Baby',\n",
              " 'STR Binny',\n",
              " 'S Aravind',\n",
              " 'YS Chahal',\n",
              " 'TS Mills',\n",
              " 'A Choudhary']"
            ]
          },
          "metadata": {
            "tags": []
          },
          "execution_count": 9
        }
      ]
    },
    {
      "cell_type": "code",
      "metadata": {
        "id": "RqAivq-xPxkZ"
      },
      "source": [
        "runs_ls = []\n",
        "balls_ls = []\n",
        "\n",
        "for player in players:\n",
        "    temp_df = df[df.batsman == player]\n",
        "    \n",
        "    if len(temp_df) > 0: \n",
        "        runs_ls.append(sum(temp_df.batsman_runs))\n",
        "        balls_ls.append(len(temp_df))\n",
        "    else:\n",
        "        runs_ls.append(0)\n",
        "        balls_ls.append(0)"
      ],
      "execution_count": null,
      "outputs": []
    },
    {
      "cell_type": "code",
      "metadata": {
        "id": "R5zKLvUrPxkb"
      },
      "source": [
        "players_dismissed = list(df.player_dismissed.unique())"
      ],
      "execution_count": null,
      "outputs": []
    },
    {
      "cell_type": "code",
      "metadata": {
        "id": "iyOH6SC3Pxkc",
        "outputId": "cc11b261-3cc7-4e01-bf34-3031ebf87eb5"
      },
      "source": [
        "players_dismissed"
      ],
      "execution_count": null,
      "outputs": [
        {
          "output_type": "execute_result",
          "data": {
            "text/plain": [
              "[nan,\n",
              " 'Mandeep Singh',\n",
              " 'CH Gayle',\n",
              " 'KM Jadhav',\n",
              " 'TM Head',\n",
              " 'Sachin Baby',\n",
              " 'STR Binny',\n",
              " 'SR Watson',\n",
              " 'S Aravind',\n",
              " 'TS Mills',\n",
              " 'YS Chahal']"
            ]
          },
          "metadata": {
            "tags": []
          },
          "execution_count": 12
        }
      ]
    },
    {
      "cell_type": "code",
      "metadata": {
        "id": "tJ0mWMTqPxkd",
        "outputId": "2357f570-d4eb-4bc9-9e51-036fa9e6e282"
      },
      "source": [
        "players"
      ],
      "execution_count": null,
      "outputs": [
        {
          "output_type": "execute_result",
          "data": {
            "text/plain": [
              "['CH Gayle',\n",
              " 'Mandeep Singh',\n",
              " 'TM Head',\n",
              " 'KM Jadhav',\n",
              " 'SR Watson',\n",
              " 'Sachin Baby',\n",
              " 'STR Binny',\n",
              " 'S Aravind',\n",
              " 'YS Chahal',\n",
              " 'TS Mills',\n",
              " 'A Choudhary']"
            ]
          },
          "metadata": {
            "tags": []
          },
          "execution_count": 13
        }
      ]
    },
    {
      "cell_type": "code",
      "metadata": {
        "id": "j-QCwWxiPxke",
        "outputId": "08e35ac5-a52c-4125-aa0d-f624823084a6"
      },
      "source": [
        "df.dismissal_kind.unique()"
      ],
      "execution_count": null,
      "outputs": [
        {
          "output_type": "execute_result",
          "data": {
            "text/plain": [
              "array([nan, 'bowled', 'caught', 'run out'], dtype=object)"
            ]
          },
          "metadata": {
            "tags": []
          },
          "execution_count": 14
        }
      ]
    },
    {
      "cell_type": "code",
      "metadata": {
        "id": "L5HQ-uOQPxkf"
      },
      "source": [
        "out_no_ls = []\n",
        "fielder_ls = []\n",
        "bowler_ls = []\n",
        "\n",
        "for player in players:\n",
        "    if player in players_dismissed:\n",
        "        out_no_ls.append('out')\n",
        "        temp_df = df[df.player_dismissed == player]\n",
        "        out_type = temp_df['dismissal_kind'].item()\n",
        "        \n",
        "        if out_type == 'caught':\n",
        "            fielder_ls.append(temp_df['fielder'].item())\n",
        "            bowler_ls.append(temp_df['bowler'].item())\n",
        "        elif out_type == 'bowled':\n",
        "            fielder_ls.append('')\n",
        "            bowler_ls.append(temp_df['bowler'].item())\n",
        "        else:\n",
        "            fielder_ls.append( 'runout' + '(' + str(temp_df['fielder'].item()) + ')')\n",
        "            bowler_ls.append('')\n",
        "        \n",
        "    else:\n",
        "        out_no_ls.append('no')\n",
        "        fielder_ls.append('')\n",
        "        bowler_ls.append('')"
      ],
      "execution_count": null,
      "outputs": []
    },
    {
      "cell_type": "code",
      "metadata": {
        "id": "BdX1QxhBPxkg",
        "outputId": "2121d3c1-b07a-4b7a-993b-91bd268930cc"
      },
      "source": [
        "out_no_ls, fielder_ls, bowler_ls"
      ],
      "execution_count": null,
      "outputs": [
        {
          "output_type": "execute_result",
          "data": {
            "text/plain": [
              "(['out', 'out', 'out', 'out', 'out', 'out', 'out', 'out', 'out', 'out', 'no'],\n",
              " ['DA Warner',\n",
              "  '',\n",
              "  'Yuvraj Singh',\n",
              "  'runout(BCJ Cutting)',\n",
              "  'MC Henriques',\n",
              "  'MC Henriques',\n",
              "  'Yuvraj Singh',\n",
              "  '',\n",
              "  'runout(CJ Jordan (sub))',\n",
              "  'DA Warner',\n",
              "  ''],\n",
              " ['DJ Hooda',\n",
              "  'Rashid Khan',\n",
              "  'Rashid Khan',\n",
              "  '',\n",
              "  'A Nehra',\n",
              "  'Bipul Sharma',\n",
              "  'B Kumar',\n",
              "  'A Nehra',\n",
              "  '',\n",
              "  'B Kumar',\n",
              "  ''])"
            ]
          },
          "metadata": {
            "tags": []
          },
          "execution_count": 16
        }
      ]
    },
    {
      "cell_type": "code",
      "metadata": {
        "id": "NVT8KBLKPxkh"
      },
      "source": [
        "runs_balls_list = []\n",
        "\n",
        "for i in range(len(players)):\n",
        "    if out_no_ls[i] == 'no':\n",
        "        runs_balls_list.append( str(runs_ls[i]) + '*' + ' (' + str(balls_ls[i]) + ' )' )\n",
        "    else:\n",
        "        runs_balls_list.append( str(runs_ls[i]) + ' (' + str(balls_ls[i]) + ' )' )     "
      ],
      "execution_count": null,
      "outputs": []
    },
    {
      "cell_type": "code",
      "metadata": {
        "id": "e3gw8QSFPxki",
        "outputId": "8c95a9f1-aa9e-40e8-c40d-ac44915e1f2e"
      },
      "source": [
        "for i in range(len(players)):\n",
        "    print(players[i], ' ', fielder_ls[i], bowler_ls[i], runs_balls_list[i])"
      ],
      "execution_count": null,
      "outputs": [
        {
          "output_type": "stream",
          "text": [
            "CH Gayle   DA Warner DJ Hooda 32 (23 )\n",
            "Mandeep Singh    Rashid Khan 24 (16 )\n",
            "TM Head   Yuvraj Singh Rashid Khan 30 (22 )\n",
            "KM Jadhav   runout(BCJ Cutting)  31 (18 )\n",
            "SR Watson   MC Henriques A Nehra 22 (17 )\n",
            "Sachin Baby   MC Henriques Bipul Sharma 1 (3 )\n",
            "STR Binny   Yuvraj Singh B Kumar 11 (10 )\n",
            "S Aravind    A Nehra 0 (2 )\n",
            "YS Chahal   runout(CJ Jordan (sub))  3 (7 )\n",
            "TS Mills   DA Warner B Kumar 6 (3 )\n",
            "A Choudhary     6* (2 )\n"
          ],
          "name": "stdout"
        }
      ]
    },
    {
      "cell_type": "code",
      "metadata": {
        "id": "AebHR0j8Pxkj"
      },
      "source": [
        "scorecard_dict = {'player':players, 'fielder':fielder_ls, 'bowler':bowler_ls, 'runs':runs_balls_list}"
      ],
      "execution_count": null,
      "outputs": []
    },
    {
      "cell_type": "code",
      "metadata": {
        "id": "gIi2RI6dPxkk",
        "outputId": "781607b3-d04b-45ec-ad1f-03fdfd9e8b67"
      },
      "source": [
        "pd.DataFrame(scorecard_dict)"
      ],
      "execution_count": null,
      "outputs": [
        {
          "output_type": "execute_result",
          "data": {
            "text/html": [
              "<div>\n",
              "<style scoped>\n",
              "    .dataframe tbody tr th:only-of-type {\n",
              "        vertical-align: middle;\n",
              "    }\n",
              "\n",
              "    .dataframe tbody tr th {\n",
              "        vertical-align: top;\n",
              "    }\n",
              "\n",
              "    .dataframe thead th {\n",
              "        text-align: right;\n",
              "    }\n",
              "</style>\n",
              "<table border=\"1\" class=\"dataframe\">\n",
              "  <thead>\n",
              "    <tr style=\"text-align: right;\">\n",
              "      <th></th>\n",
              "      <th>player</th>\n",
              "      <th>fielder</th>\n",
              "      <th>bowler</th>\n",
              "      <th>runs</th>\n",
              "    </tr>\n",
              "  </thead>\n",
              "  <tbody>\n",
              "    <tr>\n",
              "      <th>0</th>\n",
              "      <td>CH Gayle</td>\n",
              "      <td>DA Warner</td>\n",
              "      <td>DJ Hooda</td>\n",
              "      <td>32 (23 )</td>\n",
              "    </tr>\n",
              "    <tr>\n",
              "      <th>1</th>\n",
              "      <td>Mandeep Singh</td>\n",
              "      <td></td>\n",
              "      <td>Rashid Khan</td>\n",
              "      <td>24 (16 )</td>\n",
              "    </tr>\n",
              "    <tr>\n",
              "      <th>2</th>\n",
              "      <td>TM Head</td>\n",
              "      <td>Yuvraj Singh</td>\n",
              "      <td>Rashid Khan</td>\n",
              "      <td>30 (22 )</td>\n",
              "    </tr>\n",
              "    <tr>\n",
              "      <th>3</th>\n",
              "      <td>KM Jadhav</td>\n",
              "      <td>runout(BCJ Cutting)</td>\n",
              "      <td></td>\n",
              "      <td>31 (18 )</td>\n",
              "    </tr>\n",
              "    <tr>\n",
              "      <th>4</th>\n",
              "      <td>SR Watson</td>\n",
              "      <td>MC Henriques</td>\n",
              "      <td>A Nehra</td>\n",
              "      <td>22 (17 )</td>\n",
              "    </tr>\n",
              "    <tr>\n",
              "      <th>5</th>\n",
              "      <td>Sachin Baby</td>\n",
              "      <td>MC Henriques</td>\n",
              "      <td>Bipul Sharma</td>\n",
              "      <td>1 (3 )</td>\n",
              "    </tr>\n",
              "    <tr>\n",
              "      <th>6</th>\n",
              "      <td>STR Binny</td>\n",
              "      <td>Yuvraj Singh</td>\n",
              "      <td>B Kumar</td>\n",
              "      <td>11 (10 )</td>\n",
              "    </tr>\n",
              "    <tr>\n",
              "      <th>7</th>\n",
              "      <td>S Aravind</td>\n",
              "      <td></td>\n",
              "      <td>A Nehra</td>\n",
              "      <td>0 (2 )</td>\n",
              "    </tr>\n",
              "    <tr>\n",
              "      <th>8</th>\n",
              "      <td>YS Chahal</td>\n",
              "      <td>runout(CJ Jordan (sub))</td>\n",
              "      <td></td>\n",
              "      <td>3 (7 )</td>\n",
              "    </tr>\n",
              "    <tr>\n",
              "      <th>9</th>\n",
              "      <td>TS Mills</td>\n",
              "      <td>DA Warner</td>\n",
              "      <td>B Kumar</td>\n",
              "      <td>6 (3 )</td>\n",
              "    </tr>\n",
              "    <tr>\n",
              "      <th>10</th>\n",
              "      <td>A Choudhary</td>\n",
              "      <td></td>\n",
              "      <td></td>\n",
              "      <td>6* (2 )</td>\n",
              "    </tr>\n",
              "  </tbody>\n",
              "</table>\n",
              "</div>"
            ],
            "text/plain": [
              "           player                  fielder        bowler      runs\n",
              "0        CH Gayle                DA Warner      DJ Hooda  32 (23 )\n",
              "1   Mandeep Singh                            Rashid Khan  24 (16 )\n",
              "2         TM Head             Yuvraj Singh   Rashid Khan  30 (22 )\n",
              "3       KM Jadhav      runout(BCJ Cutting)                31 (18 )\n",
              "4       SR Watson             MC Henriques       A Nehra  22 (17 )\n",
              "5     Sachin Baby             MC Henriques  Bipul Sharma    1 (3 )\n",
              "6       STR Binny             Yuvraj Singh       B Kumar  11 (10 )\n",
              "7       S Aravind                                A Nehra    0 (2 )\n",
              "8       YS Chahal  runout(CJ Jordan (sub))                  3 (7 )\n",
              "9        TS Mills                DA Warner       B Kumar    6 (3 )\n",
              "10    A Choudhary                                          6* (2 )"
            ]
          },
          "metadata": {
            "tags": []
          },
          "execution_count": 20
        }
      ]
    },
    {
      "cell_type": "code",
      "metadata": {
        "id": "ab7_b8_XPxkl"
      },
      "source": [
        "scorecard_df = pd.DataFrame(scorecard_dict)"
      ],
      "execution_count": null,
      "outputs": []
    },
    {
      "cell_type": "code",
      "metadata": {
        "id": "OZkvus04Pxkl"
      },
      "source": [
        "# scorecard_df.to_csv('scorecard.csv')"
      ],
      "execution_count": null,
      "outputs": []
    }
  ]
}